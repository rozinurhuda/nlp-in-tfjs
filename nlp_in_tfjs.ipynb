{
  "nbformat": 4,
  "nbformat_minor": 0,
  "metadata": {
    "colab": {
      "name": "nlp-in-tfjs.ipynb",
      "provenance": [],
      "authorship_tag": "ABX9TyMfRv0Drm3lVT7EXn2kWk/m",
      "include_colab_link": true
    },
    "kernelspec": {
      "name": "python3",
      "display_name": "Python 3"
    },
    "language_info": {
      "name": "python"
    }
  },
  "cells": [
    {
      "cell_type": "markdown",
      "metadata": {
        "id": "view-in-github",
        "colab_type": "text"
      },
      "source": [
        "<a href=\"https://colab.research.google.com/github/rozinurhuda/nlp-in-tfjs/blob/main/nlp_in_tfjs.ipynb\" target=\"_parent\"><img src=\"https://colab.research.google.com/assets/colab-badge.svg\" alt=\"Open In Colab\"/></a>"
      ]
    },
    {
      "cell_type": "markdown",
      "metadata": {
        "id": "dfCg4QboqQIR"
      },
      "source": [
        "# Binary Classification Dataset"
      ]
    },
    {
      "cell_type": "markdown",
      "metadata": {
        "id": "xPKjhPn8qr1s"
      },
      "source": [
        "https://www.kaggle.com/marklvl/sentiment-labelled-sentences-data-set?"
      ]
    },
    {
      "cell_type": "markdown",
      "metadata": {
        "id": "0rVg2qF3qwuK"
      },
      "source": [
        "Untuk mendownload data menggunakan API kaggle, Buat akun Kaggle. Pada kanan atas klik My Profile > Account pada titik tiga > API > Create Account. Salin username dan Key pada kode dibawa ini.\n"
      ]
    },
    {
      "cell_type": "code",
      "metadata": {
        "id": "yLqkO4mWqPT4"
      },
      "source": [
        "import os\n",
        "os.environ['KAGGLE_USERNAME'] =  # fill in your username\n",
        "os.environ['KAGGLE_KEY'] =  # fill in the key"
      ],
      "execution_count": 1,
      "outputs": []
    },
    {
      "cell_type": "code",
      "metadata": {
        "colab": {
          "base_uri": "https://localhost:8080/"
        },
        "id": "exrW3tuerYkv",
        "outputId": "629be019-47b6-4f38-f492-690e814f707b"
      },
      "source": [
        "!kaggle datasets download -d marklvl/sentiment-labelled-sentences-data-set"
      ],
      "execution_count": 2,
      "outputs": [
        {
          "output_type": "stream",
          "text": [
            "Downloading sentiment-labelled-sentences-data-set.zip to /content\n",
            "\r  0% 0.00/326k [00:00<?, ?B/s]\n",
            "\r100% 326k/326k [00:00<00:00, 41.5MB/s]\n"
          ],
          "name": "stdout"
        }
      ]
    },
    {
      "cell_type": "code",
      "metadata": {
        "id": "GdrgtRmLsJQL"
      },
      "source": [
        "!unzip -q sentiment-labelled-sentences-data-set.zip -d ."
      ],
      "execution_count": 3,
      "outputs": []
    },
    {
      "cell_type": "markdown",
      "metadata": {
        "id": "tSbrhS8xtyD0"
      },
      "source": [
        "**LSTM**"
      ]
    },
    {
      "cell_type": "code",
      "metadata": {
        "colab": {
          "base_uri": "https://localhost:8080/"
        },
        "id": "K_mqhQrsts8Y",
        "outputId": "79ef19b2-ad38-490d-8449-e24d7e689a9f"
      },
      "source": [
        "import pandas as pd\n",
        "import tensorflow as tf\n",
        "from sklearn.model_selection import train_test_split\n",
        "from tensorflow.keras.preprocessing.text import Tokenizer\n",
        "from tensorflow.keras.preprocessing.sequence import pad_sequences\n",
        "\n",
        "df = pd.read_csv('/content/sentiment labelled sentences/yelp_labelled.txt', names=['sentence', 'label'], sep='\\t')\n",
        "df.shape"
      ],
      "execution_count": 4,
      "outputs": [
        {
          "output_type": "execute_result",
          "data": {
            "text/plain": [
              "(1000, 2)"
            ]
          },
          "metadata": {
            "tags": []
          },
          "execution_count": 4
        }
      ]
    },
    {
      "cell_type": "code",
      "metadata": {
        "colab": {
          "base_uri": "https://localhost:8080/"
        },
        "id": "NvAlG2f1wMku",
        "outputId": "4915ed1d-bcc7-4966-ed5b-47b059dc5a04"
      },
      "source": [
        "df.head"
      ],
      "execution_count": 5,
      "outputs": [
        {
          "output_type": "execute_result",
          "data": {
            "text/plain": [
              "<bound method NDFrame.head of                                               sentence  label\n",
              "0                             Wow... Loved this place.      1\n",
              "1                                   Crust is not good.      0\n",
              "2            Not tasty and the texture was just nasty.      0\n",
              "3    Stopped by during the late May bank holiday of...      1\n",
              "4    The selection on the menu was great and so wer...      1\n",
              "..                                                 ...    ...\n",
              "995  I think food should have flavor and texture an...      0\n",
              "996                           Appetite instantly gone.      0\n",
              "997  Overall I was not impressed and would not go b...      0\n",
              "998  The whole experience was underwhelming, and I ...      0\n",
              "999  Then, as if I hadn't wasted enough of my life ...      0\n",
              "\n",
              "[1000 rows x 2 columns]>"
            ]
          },
          "metadata": {
            "tags": []
          },
          "execution_count": 5
        }
      ]
    },
    {
      "cell_type": "markdown",
      "metadata": {
        "id": "fBB4qd_XwccX"
      },
      "source": [
        "**Text Preprocessing**"
      ]
    },
    {
      "cell_type": "code",
      "metadata": {
        "id": "Me1Q6jMMwbyW"
      },
      "source": [
        "# convert to lowercase\n",
        "df['sentence'] = df['sentence'].str.lower()"
      ],
      "execution_count": 6,
      "outputs": []
    },
    {
      "cell_type": "code",
      "metadata": {
        "colab": {
          "base_uri": "https://localhost:8080/"
        },
        "id": "INHiYhwowPgt",
        "outputId": "bb12f7e3-bfa8-461d-f0f6-81c86519167e"
      },
      "source": [
        "# remove stopwords\n",
        "\n",
        "\n",
        "# comment jika error dan gunakan 2 sintaks dibawah\n",
        "\n",
        "import nltk\n",
        "from nltk.corpus import stopwords\n",
        "nltk.download('stopwords')"
      ],
      "execution_count": 7,
      "outputs": [
        {
          "output_type": "stream",
          "text": [
            "[nltk_data] Downloading package stopwords to /root/nltk_data...\n",
            "[nltk_data]   Unzipping corpora/stopwords.zip.\n"
          ],
          "name": "stdout"
        },
        {
          "output_type": "execute_result",
          "data": {
            "text/plain": [
              "True"
            ]
          },
          "metadata": {
            "tags": []
          },
          "execution_count": 7
        }
      ]
    },
    {
      "cell_type": "code",
      "metadata": {
        "colab": {
          "base_uri": "https://localhost:8080/",
          "height": 201
        },
        "id": "Xz97S2J7x2zJ",
        "outputId": "0dda4503-8b4d-455e-c414-21ab9d5dbdea"
      },
      "source": [
        "stop = set(stopwords.words('english'))\n",
        "df['sentence'] = df['sentence'].apply(lambda x: ' '.join([word for word in x.split() if word not in (stop)]))\n",
        "df.head()"
      ],
      "execution_count": 8,
      "outputs": [
        {
          "output_type": "execute_result",
          "data": {
            "text/html": [
              "<div>\n",
              "<style scoped>\n",
              "    .dataframe tbody tr th:only-of-type {\n",
              "        vertical-align: middle;\n",
              "    }\n",
              "\n",
              "    .dataframe tbody tr th {\n",
              "        vertical-align: top;\n",
              "    }\n",
              "\n",
              "    .dataframe thead th {\n",
              "        text-align: right;\n",
              "    }\n",
              "</style>\n",
              "<table border=\"1\" class=\"dataframe\">\n",
              "  <thead>\n",
              "    <tr style=\"text-align: right;\">\n",
              "      <th></th>\n",
              "      <th>sentence</th>\n",
              "      <th>label</th>\n",
              "    </tr>\n",
              "  </thead>\n",
              "  <tbody>\n",
              "    <tr>\n",
              "      <th>0</th>\n",
              "      <td>wow... loved place.</td>\n",
              "      <td>1</td>\n",
              "    </tr>\n",
              "    <tr>\n",
              "      <th>1</th>\n",
              "      <td>crust good.</td>\n",
              "      <td>0</td>\n",
              "    </tr>\n",
              "    <tr>\n",
              "      <th>2</th>\n",
              "      <td>tasty texture nasty.</td>\n",
              "      <td>0</td>\n",
              "    </tr>\n",
              "    <tr>\n",
              "      <th>3</th>\n",
              "      <td>stopped late may bank holiday rick steve recom...</td>\n",
              "      <td>1</td>\n",
              "    </tr>\n",
              "    <tr>\n",
              "      <th>4</th>\n",
              "      <td>selection menu great prices.</td>\n",
              "      <td>1</td>\n",
              "    </tr>\n",
              "  </tbody>\n",
              "</table>\n",
              "</div>"
            ],
            "text/plain": [
              "                                            sentence  label\n",
              "0                                wow... loved place.      1\n",
              "1                                        crust good.      0\n",
              "2                               tasty texture nasty.      0\n",
              "3  stopped late may bank holiday rick steve recom...      1\n",
              "4                       selection menu great prices.      1"
            ]
          },
          "metadata": {
            "tags": []
          },
          "execution_count": 8
        }
      ]
    },
    {
      "cell_type": "markdown",
      "metadata": {
        "id": "wONmZ7L15blP"
      },
      "source": [
        "**Tokenize**"
      ]
    },
    {
      "cell_type": "code",
      "metadata": {
        "colab": {
          "base_uri": "https://localhost:8080/"
        },
        "id": "YcG1JTPF30rY",
        "outputId": "9c8d1b1e-5366-4ebb-a646-40a933529489"
      },
      "source": [
        "vocab_size = 2000\n",
        "oov_tok = \"<OOV>\"\n",
        "filt = ' !\"#$%&()*+.,-/:;=?@[\\]^_`{|}~ ' # remove symbols\n",
        "\n",
        "from tensorflow.keras.preprocessing.text import Tokenizer\n",
        "from tensorflow.keras.preprocessing.sequence import pad_sequences\n",
        "\n",
        "tokenizer = Tokenizer(num_words=vocab_size, oov_token=oov_tok, filters=filt)\n",
        "tokenizer.fit_on_texts(df['sentence'].values)\n",
        "\n",
        "word2index = tokenizer.word_index\n",
        "print(len(word2index))"
      ],
      "execution_count": 9,
      "outputs": [
        {
          "output_type": "stream",
          "text": [
            "1998\n"
          ],
          "name": "stdout"
        }
      ]
    },
    {
      "cell_type": "code",
      "metadata": {
        "id": "uGQkpxX-84zk"
      },
      "source": [
        "import json\n",
        "\n",
        "with open('word2index.json', 'w') as fp:\n",
        "  json.dump(word2index, fp)"
      ],
      "execution_count": 10,
      "outputs": []
    },
    {
      "cell_type": "code",
      "metadata": {
        "colab": {
          "base_uri": "https://localhost:8080/"
        },
        "id": "e9QpcWas9oiR",
        "outputId": "8835a25a-311c-4194-f7f9-9887c6c141e2"
      },
      "source": [
        "max_length = max(len(values.split()) for i, values in enumerate(df['sentence']))\n",
        "max_length"
      ],
      "execution_count": 11,
      "outputs": [
        {
          "output_type": "execute_result",
          "data": {
            "text/plain": [
              "18"
            ]
          },
          "metadata": {
            "tags": []
          },
          "execution_count": 11
        }
      ]
    },
    {
      "cell_type": "code",
      "metadata": {
        "colab": {
          "base_uri": "https://localhost:8080/"
        },
        "id": "FA15EyYe-CgR",
        "outputId": "ebcbfe9e-d1ee-44b6-a2bc-6bfafb28e697"
      },
      "source": [
        "trunc_type='post'\n",
        "\n",
        "all_seq = tokenizer.texts_to_sequences(df['sentence'].values)\n",
        "all_padded = pad_sequences(all_seq, maxlen=max_length, padding=trunc_type)\n",
        "all_padded.shape"
      ],
      "execution_count": 12,
      "outputs": [
        {
          "output_type": "execute_result",
          "data": {
            "text/plain": [
              "(1000, 18)"
            ]
          },
          "metadata": {
            "tags": []
          },
          "execution_count": 12
        }
      ]
    },
    {
      "cell_type": "code",
      "metadata": {
        "colab": {
          "base_uri": "https://localhost:8080/"
        },
        "id": "rYdQr_6fGSAC",
        "outputId": "d2da121a-d238-48d3-fe1e-d0172def947b"
      },
      "source": [
        "# split train and test sets\n",
        "from sklearn.model_selection import train_test_split\n",
        "\n",
        "X = all_padded\n",
        "# y = pd.get_dummies(df['label'].values)\n",
        "y = df['label']\n",
        "\n",
        "X_train, X_test, y_train, y_test = train_test_split(X, y, test_size=0.2, random_state=42)\n",
        "print(X_train.shape, y_train.shape)\n",
        "print(X_test.shape, y_test.shape)\n"
      ],
      "execution_count": 14,
      "outputs": [
        {
          "output_type": "stream",
          "text": [
            "(800, 18) (800,)\n",
            "(200, 18) (200,)\n"
          ],
          "name": "stdout"
        }
      ]
    },
    {
      "cell_type": "code",
      "metadata": {
        "colab": {
          "base_uri": "https://localhost:8080/"
        },
        "id": "SAf8HGCN34ye",
        "outputId": "63ba6d97-44f8-456b-ac99-188e31c76f94"
      },
      "source": [
        "model = tf.keras.Sequential([\n",
        "        tf.keras.layers.Embedding(input_dim=vocab_size, output_dim=16, input_length=max_length),\n",
        "        tf.keras.layers.LSTM(64),\n",
        "        tf.keras.layers.Dense(24, activation='relu'),\n",
        "        tf.keras.layers.Dense(1, activation='sigmoid'),\n",
        "])\n",
        "model.compile(loss='binary_crossentropy', optimizer='adam', metrics=['accuracy'])\n",
        "model.summary()"
      ],
      "execution_count": 16,
      "outputs": [
        {
          "output_type": "stream",
          "text": [
            "Model: \"sequential\"\n",
            "_________________________________________________________________\n",
            "Layer (type)                 Output Shape              Param #   \n",
            "=================================================================\n",
            "embedding (Embedding)        (None, 18, 16)            32000     \n",
            "_________________________________________________________________\n",
            "lstm (LSTM)                  (None, 64)                20736     \n",
            "_________________________________________________________________\n",
            "dense (Dense)                (None, 24)                1560      \n",
            "_________________________________________________________________\n",
            "dense_1 (Dense)              (None, 1)                 25        \n",
            "=================================================================\n",
            "Total params: 54,321\n",
            "Trainable params: 54,321\n",
            "Non-trainable params: 0\n",
            "_________________________________________________________________\n"
          ],
          "name": "stdout"
        }
      ]
    },
    {
      "cell_type": "code",
      "metadata": {
        "colab": {
          "base_uri": "https://localhost:8080/"
        },
        "id": "asXrsvxd5VM4",
        "outputId": "79097fe8-d931-4a55-975b-50fbe299789b"
      },
      "source": [
        "num_epochs = 30\n",
        "history = model.fit(X_train, y_train, epochs=num_epochs, validation_data=(X_test, y_test))"
      ],
      "execution_count": 17,
      "outputs": [
        {
          "output_type": "stream",
          "text": [
            "Epoch 1/30\n",
            "25/25 [==============================] - 3s 42ms/step - loss: 0.6934 - accuracy: 0.4957 - val_loss: 0.6935 - val_accuracy: 0.4800\n",
            "Epoch 2/30\n",
            "25/25 [==============================] - 0s 9ms/step - loss: 0.6926 - accuracy: 0.5271 - val_loss: 0.6898 - val_accuracy: 0.6700\n",
            "Epoch 3/30\n",
            "25/25 [==============================] - 0s 10ms/step - loss: 0.6311 - accuracy: 0.8044 - val_loss: 0.7483 - val_accuracy: 0.7250\n",
            "Epoch 4/30\n",
            "25/25 [==============================] - 0s 10ms/step - loss: 0.2572 - accuracy: 0.9021 - val_loss: 0.5741 - val_accuracy: 0.7550\n",
            "Epoch 5/30\n",
            "25/25 [==============================] - 0s 10ms/step - loss: 0.1570 - accuracy: 0.9413 - val_loss: 0.6894 - val_accuracy: 0.7900\n",
            "Epoch 6/30\n",
            "25/25 [==============================] - 0s 9ms/step - loss: 0.0588 - accuracy: 0.9799 - val_loss: 0.6956 - val_accuracy: 0.7750\n",
            "Epoch 7/30\n",
            "25/25 [==============================] - 0s 10ms/step - loss: 0.0450 - accuracy: 0.9849 - val_loss: 0.8799 - val_accuracy: 0.7750\n",
            "Epoch 8/30\n",
            "25/25 [==============================] - 0s 9ms/step - loss: 0.0227 - accuracy: 0.9904 - val_loss: 0.8517 - val_accuracy: 0.7850\n",
            "Epoch 9/30\n",
            "25/25 [==============================] - 0s 10ms/step - loss: 0.0347 - accuracy: 0.9882 - val_loss: 0.9826 - val_accuracy: 0.7800\n",
            "Epoch 10/30\n",
            "25/25 [==============================] - 0s 10ms/step - loss: 0.0161 - accuracy: 0.9965 - val_loss: 0.9231 - val_accuracy: 0.7700\n",
            "Epoch 11/30\n",
            "25/25 [==============================] - 0s 9ms/step - loss: 0.0153 - accuracy: 0.9963 - val_loss: 0.8894 - val_accuracy: 0.7700\n",
            "Epoch 12/30\n",
            "25/25 [==============================] - 0s 9ms/step - loss: 0.0194 - accuracy: 0.9947 - val_loss: 1.0879 - val_accuracy: 0.7750\n",
            "Epoch 13/30\n",
            "25/25 [==============================] - 0s 9ms/step - loss: 0.0063 - accuracy: 0.9986 - val_loss: 1.0950 - val_accuracy: 0.7750\n",
            "Epoch 14/30\n",
            "25/25 [==============================] - 0s 9ms/step - loss: 0.0036 - accuracy: 0.9987 - val_loss: 1.3106 - val_accuracy: 0.7700\n",
            "Epoch 15/30\n",
            "25/25 [==============================] - 0s 9ms/step - loss: 0.0151 - accuracy: 0.9970 - val_loss: 1.1611 - val_accuracy: 0.7700\n",
            "Epoch 16/30\n",
            "25/25 [==============================] - 0s 9ms/step - loss: 0.0151 - accuracy: 0.9943 - val_loss: 1.3383 - val_accuracy: 0.7700\n",
            "Epoch 17/30\n",
            "25/25 [==============================] - 0s 9ms/step - loss: 0.0320 - accuracy: 0.9949 - val_loss: 1.1129 - val_accuracy: 0.7850\n",
            "Epoch 18/30\n",
            "25/25 [==============================] - 0s 10ms/step - loss: 0.0031 - accuracy: 0.9995 - val_loss: 1.1428 - val_accuracy: 0.7750\n",
            "Epoch 19/30\n",
            "25/25 [==============================] - 0s 12ms/step - loss: 0.0032 - accuracy: 1.0000 - val_loss: 1.3075 - val_accuracy: 0.8000\n",
            "Epoch 20/30\n",
            "25/25 [==============================] - 0s 10ms/step - loss: 0.0014 - accuracy: 0.9989 - val_loss: 1.4514 - val_accuracy: 0.7750\n",
            "Epoch 21/30\n",
            "25/25 [==============================] - 0s 10ms/step - loss: 0.0044 - accuracy: 0.9993 - val_loss: 1.4710 - val_accuracy: 0.7650\n",
            "Epoch 22/30\n",
            "25/25 [==============================] - 0s 10ms/step - loss: 0.0011 - accuracy: 1.0000 - val_loss: 1.4715 - val_accuracy: 0.7750\n",
            "Epoch 23/30\n",
            "25/25 [==============================] - 0s 10ms/step - loss: 0.0040 - accuracy: 0.9992 - val_loss: 1.4099 - val_accuracy: 0.7700\n",
            "Epoch 24/30\n",
            "25/25 [==============================] - 0s 9ms/step - loss: 5.8745e-04 - accuracy: 1.0000 - val_loss: 1.5425 - val_accuracy: 0.7700\n",
            "Epoch 25/30\n",
            "25/25 [==============================] - 0s 10ms/step - loss: 0.0127 - accuracy: 0.9958 - val_loss: 1.3799 - val_accuracy: 0.7750\n",
            "Epoch 26/30\n",
            "25/25 [==============================] - 0s 9ms/step - loss: 0.0029 - accuracy: 1.0000 - val_loss: 1.5791 - val_accuracy: 0.7850\n",
            "Epoch 27/30\n",
            "25/25 [==============================] - 0s 9ms/step - loss: 1.4256e-04 - accuracy: 1.0000 - val_loss: 1.6056 - val_accuracy: 0.7900\n",
            "Epoch 28/30\n",
            "25/25 [==============================] - 0s 10ms/step - loss: 1.1612e-04 - accuracy: 1.0000 - val_loss: 1.6388 - val_accuracy: 0.7900\n",
            "Epoch 29/30\n",
            "25/25 [==============================] - 0s 10ms/step - loss: 1.0996e-04 - accuracy: 1.0000 - val_loss: 1.6654 - val_accuracy: 0.7900\n",
            "Epoch 30/30\n",
            "25/25 [==============================] - 0s 10ms/step - loss: 9.4645e-05 - accuracy: 1.0000 - val_loss: 1.6883 - val_accuracy: 0.7900\n"
          ],
          "name": "stdout"
        }
      ]
    },
    {
      "cell_type": "code",
      "metadata": {
        "id": "AVaOsmyo50YM"
      },
      "source": [
        "#def toSequence(sentence):\n",
        "#  pad = []\n",
        "#  for stc in sentence.split():\n",
        "#    if stc.lower() in word2index.keys(): \n",
        "#      pad.append(word2index[stc.lower()])\n",
        "#    else: \n",
        "#      continue\n",
        "#  return pad\n",
        "\n",
        "#pad = toSequence('affordable price and nice dessert')\n",
        "#pad = [269, 353, 0, 0, 0, 0, 0, 0, 0, 0, 0, 0, 0,0 ,0,0,0,0]\n",
        "#len(pad)\n",
        "#model.predict([pad])\n"
      ],
      "execution_count": 18,
      "outputs": []
    },
    {
      "cell_type": "code",
      "metadata": {
        "id": "tmjbOouc6FYk"
      },
      "source": [
        ""
      ],
      "execution_count": null,
      "outputs": []
    }
  ]
}